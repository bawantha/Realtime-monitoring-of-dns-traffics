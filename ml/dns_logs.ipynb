{
 "cells": [
  {
   "cell_type": "code",
   "execution_count": 30,
   "metadata": {},
   "outputs": [],
   "source": [
    "import pandas as pd\n",
    "import numpy as np\n",
    "import tldextract"
   ]
  },
  {
   "cell_type": "code",
   "execution_count": 31,
   "metadata": {},
   "outputs": [],
   "source": [
    "alexa_dataframe = pd.read_csv(\"top-1m.csv\", header=None,  index_col=0)"
   ]
  },
  {
   "cell_type": "code",
   "execution_count": 32,
   "metadata": {},
   "outputs": [
    {
     "data": {
      "text/html": [
       "<div>\n",
       "<style scoped>\n",
       "    .dataframe tbody tr th:only-of-type {\n",
       "        vertical-align: middle;\n",
       "    }\n",
       "\n",
       "    .dataframe tbody tr th {\n",
       "        vertical-align: top;\n",
       "    }\n",
       "\n",
       "    .dataframe thead th {\n",
       "        text-align: right;\n",
       "    }\n",
       "</style>\n",
       "<table border=\"1\" class=\"dataframe\">\n",
       "  <thead>\n",
       "    <tr style=\"text-align: right;\">\n",
       "      <th></th>\n",
       "      <th>1</th>\n",
       "    </tr>\n",
       "    <tr>\n",
       "      <th>0</th>\n",
       "      <th></th>\n",
       "    </tr>\n",
       "  </thead>\n",
       "  <tbody>\n",
       "    <tr>\n",
       "      <th>1</th>\n",
       "      <td>google.com</td>\n",
       "    </tr>\n",
       "    <tr>\n",
       "      <th>2</th>\n",
       "      <td>youtube.com</td>\n",
       "    </tr>\n",
       "    <tr>\n",
       "      <th>3</th>\n",
       "      <td>facebook.com</td>\n",
       "    </tr>\n",
       "    <tr>\n",
       "      <th>4</th>\n",
       "      <td>baidu.com</td>\n",
       "    </tr>\n",
       "    <tr>\n",
       "      <th>5</th>\n",
       "      <td>wikipedia.org</td>\n",
       "    </tr>\n",
       "    <tr>\n",
       "      <th>...</th>\n",
       "      <td>...</td>\n",
       "    </tr>\n",
       "    <tr>\n",
       "      <th>999996</th>\n",
       "      <td>sibf.org</td>\n",
       "    </tr>\n",
       "    <tr>\n",
       "      <th>999997</th>\n",
       "      <td>bukapintu.co</td>\n",
       "    </tr>\n",
       "    <tr>\n",
       "      <th>999998</th>\n",
       "      <td>klatovynet.cz</td>\n",
       "    </tr>\n",
       "    <tr>\n",
       "      <th>999999</th>\n",
       "      <td>elconquistadorfm.cl</td>\n",
       "    </tr>\n",
       "    <tr>\n",
       "      <th>1000000</th>\n",
       "      <td>laputertienda.com</td>\n",
       "    </tr>\n",
       "  </tbody>\n",
       "</table>\n",
       "<p>1000000 rows × 1 columns</p>\n",
       "</div>"
      ],
      "text/plain": [
       "                           1\n",
       "0                           \n",
       "1                 google.com\n",
       "2                youtube.com\n",
       "3               facebook.com\n",
       "4                  baidu.com\n",
       "5              wikipedia.org\n",
       "...                      ...\n",
       "999996              sibf.org\n",
       "999997          bukapintu.co\n",
       "999998         klatovynet.cz\n",
       "999999   elconquistadorfm.cl\n",
       "1000000    laputertienda.com\n",
       "\n",
       "[1000000 rows x 1 columns]"
      ]
     },
     "execution_count": 32,
     "metadata": {},
     "output_type": "execute_result"
    }
   ],
   "source": [
    "alexa_dataframe"
   ]
  },
  {
   "cell_type": "code",
   "execution_count": 33,
   "metadata": {},
   "outputs": [],
   "source": [
    "alexa_dataframe.rename(columns = {1: 'url'}, inplace = True)"
   ]
  },
  {
   "cell_type": "code",
   "execution_count": 34,
   "metadata": {},
   "outputs": [],
   "source": [
    "def domain_extract(uri):\n",
    "    ext = tldextract.extract(uri)\n",
    "    if (not ext.suffix):\n",
    "        return np.nan\n",
    "    else:\n",
    "        return ext.domain"
   ]
  },
  {
   "cell_type": "code",
   "execution_count": 35,
   "metadata": {},
   "outputs": [],
   "source": [
    "alexa_dataframe['domain'] = [ domain_extract(uri) for uri in alexa_dataframe['url']]"
   ]
  },
  {
   "cell_type": "code",
   "execution_count": 36,
   "metadata": {},
   "outputs": [],
   "source": [
    "del alexa_dataframe['url']"
   ]
  },
  {
   "cell_type": "code",
   "execution_count": 37,
   "metadata": {},
   "outputs": [
    {
     "data": {
      "text/html": [
       "<div>\n",
       "<style scoped>\n",
       "    .dataframe tbody tr th:only-of-type {\n",
       "        vertical-align: middle;\n",
       "    }\n",
       "\n",
       "    .dataframe tbody tr th {\n",
       "        vertical-align: top;\n",
       "    }\n",
       "\n",
       "    .dataframe thead th {\n",
       "        text-align: right;\n",
       "    }\n",
       "</style>\n",
       "<table border=\"1\" class=\"dataframe\">\n",
       "  <thead>\n",
       "    <tr style=\"text-align: right;\">\n",
       "      <th></th>\n",
       "      <th>domain</th>\n",
       "    </tr>\n",
       "    <tr>\n",
       "      <th>0</th>\n",
       "      <th></th>\n",
       "    </tr>\n",
       "  </thead>\n",
       "  <tbody>\n",
       "    <tr>\n",
       "      <th>1</th>\n",
       "      <td>google</td>\n",
       "    </tr>\n",
       "    <tr>\n",
       "      <th>2</th>\n",
       "      <td>youtube</td>\n",
       "    </tr>\n",
       "    <tr>\n",
       "      <th>3</th>\n",
       "      <td>facebook</td>\n",
       "    </tr>\n",
       "    <tr>\n",
       "      <th>4</th>\n",
       "      <td>baidu</td>\n",
       "    </tr>\n",
       "    <tr>\n",
       "      <th>5</th>\n",
       "      <td>wikipedia</td>\n",
       "    </tr>\n",
       "    <tr>\n",
       "      <th>...</th>\n",
       "      <td>...</td>\n",
       "    </tr>\n",
       "    <tr>\n",
       "      <th>999996</th>\n",
       "      <td>sibf</td>\n",
       "    </tr>\n",
       "    <tr>\n",
       "      <th>999997</th>\n",
       "      <td>bukapintu</td>\n",
       "    </tr>\n",
       "    <tr>\n",
       "      <th>999998</th>\n",
       "      <td>klatovynet</td>\n",
       "    </tr>\n",
       "    <tr>\n",
       "      <th>999999</th>\n",
       "      <td>elconquistadorfm</td>\n",
       "    </tr>\n",
       "    <tr>\n",
       "      <th>1000000</th>\n",
       "      <td>laputertienda</td>\n",
       "    </tr>\n",
       "  </tbody>\n",
       "</table>\n",
       "<p>1000000 rows × 1 columns</p>\n",
       "</div>"
      ],
      "text/plain": [
       "                   domain\n",
       "0                        \n",
       "1                  google\n",
       "2                 youtube\n",
       "3                facebook\n",
       "4                   baidu\n",
       "5               wikipedia\n",
       "...                   ...\n",
       "999996               sibf\n",
       "999997          bukapintu\n",
       "999998         klatovynet\n",
       "999999   elconquistadorfm\n",
       "1000000     laputertienda\n",
       "\n",
       "[1000000 rows x 1 columns]"
      ]
     },
     "execution_count": 37,
     "metadata": {},
     "output_type": "execute_result"
    }
   ],
   "source": [
    "alexa_dataframe"
   ]
  },
  {
   "cell_type": "code",
   "execution_count": 38,
   "metadata": {},
   "outputs": [
    {
     "data": {
      "text/html": [
       "<div>\n",
       "<style scoped>\n",
       "    .dataframe tbody tr th:only-of-type {\n",
       "        vertical-align: middle;\n",
       "    }\n",
       "\n",
       "    .dataframe tbody tr th {\n",
       "        vertical-align: top;\n",
       "    }\n",
       "\n",
       "    .dataframe thead th {\n",
       "        text-align: right;\n",
       "    }\n",
       "</style>\n",
       "<table border=\"1\" class=\"dataframe\">\n",
       "  <thead>\n",
       "    <tr style=\"text-align: right;\">\n",
       "      <th></th>\n",
       "      <th>domain</th>\n",
       "    </tr>\n",
       "    <tr>\n",
       "      <th>0</th>\n",
       "      <th></th>\n",
       "    </tr>\n",
       "  </thead>\n",
       "  <tbody>\n",
       "    <tr>\n",
       "      <th>1</th>\n",
       "      <td>google</td>\n",
       "    </tr>\n",
       "    <tr>\n",
       "      <th>2</th>\n",
       "      <td>youtube</td>\n",
       "    </tr>\n",
       "    <tr>\n",
       "      <th>3</th>\n",
       "      <td>facebook</td>\n",
       "    </tr>\n",
       "    <tr>\n",
       "      <th>4</th>\n",
       "      <td>baidu</td>\n",
       "    </tr>\n",
       "    <tr>\n",
       "      <th>5</th>\n",
       "      <td>wikipedia</td>\n",
       "    </tr>\n",
       "    <tr>\n",
       "      <th>...</th>\n",
       "      <td>...</td>\n",
       "    </tr>\n",
       "    <tr>\n",
       "      <th>999996</th>\n",
       "      <td>sibf</td>\n",
       "    </tr>\n",
       "    <tr>\n",
       "      <th>999997</th>\n",
       "      <td>bukapintu</td>\n",
       "    </tr>\n",
       "    <tr>\n",
       "      <th>999998</th>\n",
       "      <td>klatovynet</td>\n",
       "    </tr>\n",
       "    <tr>\n",
       "      <th>999999</th>\n",
       "      <td>elconquistadorfm</td>\n",
       "    </tr>\n",
       "    <tr>\n",
       "      <th>1000000</th>\n",
       "      <td>laputertienda</td>\n",
       "    </tr>\n",
       "  </tbody>\n",
       "</table>\n",
       "<p>999992 rows × 1 columns</p>\n",
       "</div>"
      ],
      "text/plain": [
       "                   domain\n",
       "0                        \n",
       "1                  google\n",
       "2                 youtube\n",
       "3                facebook\n",
       "4                   baidu\n",
       "5               wikipedia\n",
       "...                   ...\n",
       "999996               sibf\n",
       "999997          bukapintu\n",
       "999998         klatovynet\n",
       "999999   elconquistadorfm\n",
       "1000000     laputertienda\n",
       "\n",
       "[999992 rows x 1 columns]"
      ]
     },
     "execution_count": 38,
     "metadata": {},
     "output_type": "execute_result"
    }
   ],
   "source": [
    "alexa_dataframe.drop_duplicates()\n",
    "alexa_dataframe.dropna()"
   ]
  },
  {
   "cell_type": "code",
   "execution_count": 39,
   "metadata": {},
   "outputs": [],
   "source": [
    "alexa_dataframe = alexa_dataframe.reindex(np.random.permutation(alexa_dataframe.index))\n",
    "alexa_total = alexa_dataframe.shape[0]"
   ]
  },
  {
   "cell_type": "code",
   "execution_count": 40,
   "metadata": {},
   "outputs": [
    {
     "data": {
      "text/plain": [
       "1000000"
      ]
     },
     "execution_count": 40,
     "metadata": {},
     "output_type": "execute_result"
    }
   ],
   "source": [
    "alexa_total"
   ]
  },
  {
   "cell_type": "code",
   "execution_count": 41,
   "metadata": {},
   "outputs": [],
   "source": [
    "alexa_dataframe['class'] = 'benign'"
   ]
  },
  {
   "cell_type": "code",
   "execution_count": 42,
   "metadata": {},
   "outputs": [
    {
     "data": {
      "text/html": [
       "<div>\n",
       "<style scoped>\n",
       "    .dataframe tbody tr th:only-of-type {\n",
       "        vertical-align: middle;\n",
       "    }\n",
       "\n",
       "    .dataframe tbody tr th {\n",
       "        vertical-align: top;\n",
       "    }\n",
       "\n",
       "    .dataframe thead th {\n",
       "        text-align: right;\n",
       "    }\n",
       "</style>\n",
       "<table border=\"1\" class=\"dataframe\">\n",
       "  <thead>\n",
       "    <tr style=\"text-align: right;\">\n",
       "      <th></th>\n",
       "      <th>domain</th>\n",
       "      <th>class</th>\n",
       "    </tr>\n",
       "    <tr>\n",
       "      <th>0</th>\n",
       "      <th></th>\n",
       "      <th></th>\n",
       "    </tr>\n",
       "  </thead>\n",
       "  <tbody>\n",
       "    <tr>\n",
       "      <th>841531</th>\n",
       "      <td>cassavamachine</td>\n",
       "      <td>benign</td>\n",
       "    </tr>\n",
       "    <tr>\n",
       "      <th>298648</th>\n",
       "      <td>polac</td>\n",
       "      <td>benign</td>\n",
       "    </tr>\n",
       "    <tr>\n",
       "      <th>269323</th>\n",
       "      <td>tecnoyouth</td>\n",
       "      <td>benign</td>\n",
       "    </tr>\n",
       "    <tr>\n",
       "      <th>450893</th>\n",
       "      <td>securitytut</td>\n",
       "      <td>benign</td>\n",
       "    </tr>\n",
       "    <tr>\n",
       "      <th>439656</th>\n",
       "      <td>pauline</td>\n",
       "      <td>benign</td>\n",
       "    </tr>\n",
       "    <tr>\n",
       "      <th>...</th>\n",
       "      <td>...</td>\n",
       "      <td>...</td>\n",
       "    </tr>\n",
       "    <tr>\n",
       "      <th>267283</th>\n",
       "      <td>guiacidade</td>\n",
       "      <td>benign</td>\n",
       "    </tr>\n",
       "    <tr>\n",
       "      <th>888645</th>\n",
       "      <td>sharepoint</td>\n",
       "      <td>benign</td>\n",
       "    </tr>\n",
       "    <tr>\n",
       "      <th>754022</th>\n",
       "      <td>sobremesa</td>\n",
       "      <td>benign</td>\n",
       "    </tr>\n",
       "    <tr>\n",
       "      <th>71178</th>\n",
       "      <td>sendungverpasst</td>\n",
       "      <td>benign</td>\n",
       "    </tr>\n",
       "    <tr>\n",
       "      <th>162474</th>\n",
       "      <td>photofile</td>\n",
       "      <td>benign</td>\n",
       "    </tr>\n",
       "  </tbody>\n",
       "</table>\n",
       "<p>1000000 rows × 2 columns</p>\n",
       "</div>"
      ],
      "text/plain": [
       "                 domain   class\n",
       "0                              \n",
       "841531   cassavamachine  benign\n",
       "298648            polac  benign\n",
       "269323       tecnoyouth  benign\n",
       "450893      securitytut  benign\n",
       "439656          pauline  benign\n",
       "...                 ...     ...\n",
       "267283       guiacidade  benign\n",
       "888645       sharepoint  benign\n",
       "754022        sobremesa  benign\n",
       "71178   sendungverpasst  benign\n",
       "162474        photofile  benign\n",
       "\n",
       "[1000000 rows x 2 columns]"
      ]
     },
     "execution_count": 42,
     "metadata": {},
     "output_type": "execute_result"
    }
   ],
   "source": [
    "alexa_dataframe"
   ]
  },
  {
   "cell_type": "code",
   "execution_count": 43,
   "metadata": {},
   "outputs": [],
   "source": [
    "dga_dataframe = pd.read_csv('dga_domains_full.csv', header=None)"
   ]
  },
  {
   "cell_type": "code",
   "execution_count": 44,
   "metadata": {},
   "outputs": [
    {
     "data": {
      "text/html": [
       "<div>\n",
       "<style scoped>\n",
       "    .dataframe tbody tr th:only-of-type {\n",
       "        vertical-align: middle;\n",
       "    }\n",
       "\n",
       "    .dataframe tbody tr th {\n",
       "        vertical-align: top;\n",
       "    }\n",
       "\n",
       "    .dataframe thead th {\n",
       "        text-align: right;\n",
       "    }\n",
       "</style>\n",
       "<table border=\"1\" class=\"dataframe\">\n",
       "  <thead>\n",
       "    <tr style=\"text-align: right;\">\n",
       "      <th></th>\n",
       "      <th>0</th>\n",
       "      <th>1</th>\n",
       "      <th>2</th>\n",
       "    </tr>\n",
       "  </thead>\n",
       "  <tbody>\n",
       "    <tr>\n",
       "      <th>0</th>\n",
       "      <td>dga</td>\n",
       "      <td>gozi</td>\n",
       "      <td>mortiscontrastatim.com</td>\n",
       "    </tr>\n",
       "    <tr>\n",
       "      <th>1</th>\n",
       "      <td>dga</td>\n",
       "      <td>corebot</td>\n",
       "      <td>cvyh1po636avyrsxebwbkn7.ddns.net</td>\n",
       "    </tr>\n",
       "    <tr>\n",
       "      <th>2</th>\n",
       "      <td>legit</td>\n",
       "      <td>alexa</td>\n",
       "      <td>plasticbags.sa.com</td>\n",
       "    </tr>\n",
       "    <tr>\n",
       "      <th>3</th>\n",
       "      <td>legit</td>\n",
       "      <td>alexa</td>\n",
       "      <td>mzltrack.com</td>\n",
       "    </tr>\n",
       "    <tr>\n",
       "      <th>4</th>\n",
       "      <td>legit</td>\n",
       "      <td>alexa</td>\n",
       "      <td>miss-slim.ru</td>\n",
       "    </tr>\n",
       "    <tr>\n",
       "      <th>...</th>\n",
       "      <td>...</td>\n",
       "      <td>...</td>\n",
       "      <td>...</td>\n",
       "    </tr>\n",
       "    <tr>\n",
       "      <th>674893</th>\n",
       "      <td>dga</td>\n",
       "      <td>padcrypt</td>\n",
       "      <td>fkmmnlmdokedddmn.com</td>\n",
       "    </tr>\n",
       "    <tr>\n",
       "      <th>674894</th>\n",
       "      <td>dga</td>\n",
       "      <td>emotet</td>\n",
       "      <td>cwnhlchfhcqrgass.eu</td>\n",
       "    </tr>\n",
       "    <tr>\n",
       "      <th>674895</th>\n",
       "      <td>legit</td>\n",
       "      <td>alexa</td>\n",
       "      <td>weloty.com</td>\n",
       "    </tr>\n",
       "    <tr>\n",
       "      <th>674896</th>\n",
       "      <td>dga</td>\n",
       "      <td>cryptolocker</td>\n",
       "      <td>mwxquxbokithpn.net</td>\n",
       "    </tr>\n",
       "    <tr>\n",
       "      <th>674897</th>\n",
       "      <td>dga</td>\n",
       "      <td>necurs</td>\n",
       "      <td>aecojeyem.ki</td>\n",
       "    </tr>\n",
       "  </tbody>\n",
       "</table>\n",
       "<p>674898 rows × 3 columns</p>\n",
       "</div>"
      ],
      "text/plain": [
       "            0             1                                 2\n",
       "0         dga          gozi            mortiscontrastatim.com\n",
       "1         dga       corebot  cvyh1po636avyrsxebwbkn7.ddns.net\n",
       "2       legit         alexa                plasticbags.sa.com\n",
       "3       legit         alexa                      mzltrack.com\n",
       "4       legit         alexa                      miss-slim.ru\n",
       "...       ...           ...                               ...\n",
       "674893    dga      padcrypt              fkmmnlmdokedddmn.com\n",
       "674894    dga        emotet               cwnhlchfhcqrgass.eu\n",
       "674895  legit         alexa                        weloty.com\n",
       "674896    dga  cryptolocker                mwxquxbokithpn.net\n",
       "674897    dga        necurs                      aecojeyem.ki\n",
       "\n",
       "[674898 rows x 3 columns]"
      ]
     },
     "execution_count": 44,
     "metadata": {},
     "output_type": "execute_result"
    }
   ],
   "source": [
    "dga_dataframe"
   ]
  },
  {
   "cell_type": "code",
   "execution_count": 45,
   "metadata": {},
   "outputs": [],
   "source": [
    "dga_dataframe = dga_dataframe.loc[dga_dataframe[0] == \"dga\"]"
   ]
  },
  {
   "cell_type": "code",
   "execution_count": 46,
   "metadata": {},
   "outputs": [
    {
     "data": {
      "text/html": [
       "<div>\n",
       "<style scoped>\n",
       "    .dataframe tbody tr th:only-of-type {\n",
       "        vertical-align: middle;\n",
       "    }\n",
       "\n",
       "    .dataframe tbody tr th {\n",
       "        vertical-align: top;\n",
       "    }\n",
       "\n",
       "    .dataframe thead th {\n",
       "        text-align: right;\n",
       "    }\n",
       "</style>\n",
       "<table border=\"1\" class=\"dataframe\">\n",
       "  <thead>\n",
       "    <tr style=\"text-align: right;\">\n",
       "      <th></th>\n",
       "      <th>0</th>\n",
       "      <th>1</th>\n",
       "      <th>2</th>\n",
       "    </tr>\n",
       "  </thead>\n",
       "  <tbody>\n",
       "    <tr>\n",
       "      <th>0</th>\n",
       "      <td>dga</td>\n",
       "      <td>gozi</td>\n",
       "      <td>mortiscontrastatim.com</td>\n",
       "    </tr>\n",
       "    <tr>\n",
       "      <th>1</th>\n",
       "      <td>dga</td>\n",
       "      <td>corebot</td>\n",
       "      <td>cvyh1po636avyrsxebwbkn7.ddns.net</td>\n",
       "    </tr>\n",
       "    <tr>\n",
       "      <th>5</th>\n",
       "      <td>dga</td>\n",
       "      <td>ranbyus</td>\n",
       "      <td>txumyqrubwutbb.cc</td>\n",
       "    </tr>\n",
       "    <tr>\n",
       "      <th>7</th>\n",
       "      <td>dga</td>\n",
       "      <td>symmi</td>\n",
       "      <td>ixekrihagimau.ddns.net</td>\n",
       "    </tr>\n",
       "    <tr>\n",
       "      <th>8</th>\n",
       "      <td>dga</td>\n",
       "      <td>emotet</td>\n",
       "      <td>rjyuosmhfnaedlyg.eu</td>\n",
       "    </tr>\n",
       "    <tr>\n",
       "      <th>...</th>\n",
       "      <td>...</td>\n",
       "      <td>...</td>\n",
       "      <td>...</td>\n",
       "    </tr>\n",
       "    <tr>\n",
       "      <th>674892</th>\n",
       "      <td>dga</td>\n",
       "      <td>murofet</td>\n",
       "      <td>poeguvtsixuriem.net</td>\n",
       "    </tr>\n",
       "    <tr>\n",
       "      <th>674893</th>\n",
       "      <td>dga</td>\n",
       "      <td>padcrypt</td>\n",
       "      <td>fkmmnlmdokedddmn.com</td>\n",
       "    </tr>\n",
       "    <tr>\n",
       "      <th>674894</th>\n",
       "      <td>dga</td>\n",
       "      <td>emotet</td>\n",
       "      <td>cwnhlchfhcqrgass.eu</td>\n",
       "    </tr>\n",
       "    <tr>\n",
       "      <th>674896</th>\n",
       "      <td>dga</td>\n",
       "      <td>cryptolocker</td>\n",
       "      <td>mwxquxbokithpn.net</td>\n",
       "    </tr>\n",
       "    <tr>\n",
       "      <th>674897</th>\n",
       "      <td>dga</td>\n",
       "      <td>necurs</td>\n",
       "      <td>aecojeyem.ki</td>\n",
       "    </tr>\n",
       "  </tbody>\n",
       "</table>\n",
       "<p>337500 rows × 3 columns</p>\n",
       "</div>"
      ],
      "text/plain": [
       "          0             1                                 2\n",
       "0       dga          gozi            mortiscontrastatim.com\n",
       "1       dga       corebot  cvyh1po636avyrsxebwbkn7.ddns.net\n",
       "5       dga       ranbyus                 txumyqrubwutbb.cc\n",
       "7       dga         symmi            ixekrihagimau.ddns.net\n",
       "8       dga        emotet               rjyuosmhfnaedlyg.eu\n",
       "...     ...           ...                               ...\n",
       "674892  dga       murofet               poeguvtsixuriem.net\n",
       "674893  dga      padcrypt              fkmmnlmdokedddmn.com\n",
       "674894  dga        emotet               cwnhlchfhcqrgass.eu\n",
       "674896  dga  cryptolocker                mwxquxbokithpn.net\n",
       "674897  dga        necurs                      aecojeyem.ki\n",
       "\n",
       "[337500 rows x 3 columns]"
      ]
     },
     "execution_count": 46,
     "metadata": {},
     "output_type": "execute_result"
    }
   ],
   "source": [
    "dga_dataframe"
   ]
  },
  {
   "cell_type": "code",
   "execution_count": 47,
   "metadata": {},
   "outputs": [],
   "source": [
    "del dga_dataframe[0]"
   ]
  },
  {
   "cell_type": "code",
   "execution_count": 48,
   "metadata": {},
   "outputs": [],
   "source": [
    "del dga_dataframe[1]"
   ]
  },
  {
   "cell_type": "code",
   "execution_count": 49,
   "metadata": {},
   "outputs": [
    {
     "name": "stderr",
     "output_type": "stream",
     "text": [
      "C:\\Users\\Tharindu\\miniconda3\\envs\\ml\\lib\\site-packages\\ipykernel_launcher.py:1: SettingWithCopyWarning: \n",
      "A value is trying to be set on a copy of a slice from a DataFrame.\n",
      "Try using .loc[row_indexer,col_indexer] = value instead\n",
      "\n",
      "See the caveats in the documentation: https://pandas.pydata.org/pandas-docs/stable/user_guide/indexing.html#returning-a-view-versus-a-copy\n",
      "  \"\"\"Entry point for launching an IPython kernel.\n"
     ]
    }
   ],
   "source": [
    "dga_dataframe['class'] = 'malicious'"
   ]
  },
  {
   "cell_type": "code",
   "execution_count": 50,
   "metadata": {},
   "outputs": [
    {
     "data": {
      "text/html": [
       "<div>\n",
       "<style scoped>\n",
       "    .dataframe tbody tr th:only-of-type {\n",
       "        vertical-align: middle;\n",
       "    }\n",
       "\n",
       "    .dataframe tbody tr th {\n",
       "        vertical-align: top;\n",
       "    }\n",
       "\n",
       "    .dataframe thead th {\n",
       "        text-align: right;\n",
       "    }\n",
       "</style>\n",
       "<table border=\"1\" class=\"dataframe\">\n",
       "  <thead>\n",
       "    <tr style=\"text-align: right;\">\n",
       "      <th></th>\n",
       "      <th>2</th>\n",
       "      <th>class</th>\n",
       "    </tr>\n",
       "  </thead>\n",
       "  <tbody>\n",
       "    <tr>\n",
       "      <th>0</th>\n",
       "      <td>mortiscontrastatim.com</td>\n",
       "      <td>malicious</td>\n",
       "    </tr>\n",
       "    <tr>\n",
       "      <th>1</th>\n",
       "      <td>cvyh1po636avyrsxebwbkn7.ddns.net</td>\n",
       "      <td>malicious</td>\n",
       "    </tr>\n",
       "    <tr>\n",
       "      <th>5</th>\n",
       "      <td>txumyqrubwutbb.cc</td>\n",
       "      <td>malicious</td>\n",
       "    </tr>\n",
       "    <tr>\n",
       "      <th>7</th>\n",
       "      <td>ixekrihagimau.ddns.net</td>\n",
       "      <td>malicious</td>\n",
       "    </tr>\n",
       "    <tr>\n",
       "      <th>8</th>\n",
       "      <td>rjyuosmhfnaedlyg.eu</td>\n",
       "      <td>malicious</td>\n",
       "    </tr>\n",
       "    <tr>\n",
       "      <th>...</th>\n",
       "      <td>...</td>\n",
       "      <td>...</td>\n",
       "    </tr>\n",
       "    <tr>\n",
       "      <th>674892</th>\n",
       "      <td>poeguvtsixuriem.net</td>\n",
       "      <td>malicious</td>\n",
       "    </tr>\n",
       "    <tr>\n",
       "      <th>674893</th>\n",
       "      <td>fkmmnlmdokedddmn.com</td>\n",
       "      <td>malicious</td>\n",
       "    </tr>\n",
       "    <tr>\n",
       "      <th>674894</th>\n",
       "      <td>cwnhlchfhcqrgass.eu</td>\n",
       "      <td>malicious</td>\n",
       "    </tr>\n",
       "    <tr>\n",
       "      <th>674896</th>\n",
       "      <td>mwxquxbokithpn.net</td>\n",
       "      <td>malicious</td>\n",
       "    </tr>\n",
       "    <tr>\n",
       "      <th>674897</th>\n",
       "      <td>aecojeyem.ki</td>\n",
       "      <td>malicious</td>\n",
       "    </tr>\n",
       "  </tbody>\n",
       "</table>\n",
       "<p>337500 rows × 2 columns</p>\n",
       "</div>"
      ],
      "text/plain": [
       "                                       2      class\n",
       "0                 mortiscontrastatim.com  malicious\n",
       "1       cvyh1po636avyrsxebwbkn7.ddns.net  malicious\n",
       "5                      txumyqrubwutbb.cc  malicious\n",
       "7                 ixekrihagimau.ddns.net  malicious\n",
       "8                    rjyuosmhfnaedlyg.eu  malicious\n",
       "...                                  ...        ...\n",
       "674892               poeguvtsixuriem.net  malicious\n",
       "674893              fkmmnlmdokedddmn.com  malicious\n",
       "674894               cwnhlchfhcqrgass.eu  malicious\n",
       "674896                mwxquxbokithpn.net  malicious\n",
       "674897                      aecojeyem.ki  malicious\n",
       "\n",
       "[337500 rows x 2 columns]"
      ]
     },
     "execution_count": 50,
     "metadata": {},
     "output_type": "execute_result"
    }
   ],
   "source": [
    "dga_dataframe"
   ]
  },
  {
   "cell_type": "code",
   "execution_count": 51,
   "metadata": {},
   "outputs": [],
   "source": [
    "dga_dataframe = dga_dataframe.reindex(np.random.permutation(dga_dataframe.index))\n",
    "dga_total = dga_dataframe.shape[0]"
   ]
  },
  {
   "cell_type": "code",
   "execution_count": 52,
   "metadata": {},
   "outputs": [
    {
     "data": {
      "text/plain": [
       "337500"
      ]
     },
     "execution_count": 52,
     "metadata": {},
     "output_type": "execute_result"
    }
   ],
   "source": [
    "dga_total"
   ]
  },
  {
   "cell_type": "code",
   "execution_count": 53,
   "metadata": {},
   "outputs": [],
   "source": [
    "dga_dataframe['domain'] = [ domain_extract(uri) for uri in dga_dataframe[2]]"
   ]
  },
  {
   "cell_type": "code",
   "execution_count": 54,
   "metadata": {},
   "outputs": [],
   "source": [
    "dga_dataframe[2] = dga_dataframe['domain']"
   ]
  },
  {
   "cell_type": "code",
   "execution_count": 55,
   "metadata": {},
   "outputs": [],
   "source": [
    "del dga_dataframe['domain']"
   ]
  },
  {
   "cell_type": "code",
   "execution_count": 56,
   "metadata": {},
   "outputs": [],
   "source": [
    "dga_dataframe.rename(columns = {2: 'domain'}, inplace = True)"
   ]
  },
  {
   "cell_type": "code",
   "execution_count": 57,
   "metadata": {},
   "outputs": [
    {
     "data": {
      "text/html": [
       "<div>\n",
       "<style scoped>\n",
       "    .dataframe tbody tr th:only-of-type {\n",
       "        vertical-align: middle;\n",
       "    }\n",
       "\n",
       "    .dataframe tbody tr th {\n",
       "        vertical-align: top;\n",
       "    }\n",
       "\n",
       "    .dataframe thead th {\n",
       "        text-align: right;\n",
       "    }\n",
       "</style>\n",
       "<table border=\"1\" class=\"dataframe\">\n",
       "  <thead>\n",
       "    <tr style=\"text-align: right;\">\n",
       "      <th></th>\n",
       "      <th>domain</th>\n",
       "      <th>class</th>\n",
       "    </tr>\n",
       "  </thead>\n",
       "  <tbody>\n",
       "    <tr>\n",
       "      <th>332634</th>\n",
       "      <td>p62l48c59dygvowlskxosgvcsdtd20aym69nu</td>\n",
       "      <td>malicious</td>\n",
       "    </tr>\n",
       "    <tr>\n",
       "      <th>570936</th>\n",
       "      <td>selfengaged</td>\n",
       "      <td>malicious</td>\n",
       "    </tr>\n",
       "    <tr>\n",
       "      <th>277405</th>\n",
       "      <td>enbacankadmecfba</td>\n",
       "      <td>malicious</td>\n",
       "    </tr>\n",
       "    <tr>\n",
       "      <th>510995</th>\n",
       "      <td>vrtmfqdnwomekardo</td>\n",
       "      <td>malicious</td>\n",
       "    </tr>\n",
       "    <tr>\n",
       "      <th>418982</th>\n",
       "      <td>ocvmubkuktvczh</td>\n",
       "      <td>malicious</td>\n",
       "    </tr>\n",
       "    <tr>\n",
       "      <th>...</th>\n",
       "      <td>...</td>\n",
       "      <td>...</td>\n",
       "    </tr>\n",
       "    <tr>\n",
       "      <th>8880</th>\n",
       "      <td>zixw</td>\n",
       "      <td>malicious</td>\n",
       "    </tr>\n",
       "    <tr>\n",
       "      <th>593049</th>\n",
       "      <td>kyxp4j1evbk81jhaig</td>\n",
       "      <td>malicious</td>\n",
       "    </tr>\n",
       "    <tr>\n",
       "      <th>296792</th>\n",
       "      <td>eybqklbhb</td>\n",
       "      <td>malicious</td>\n",
       "    </tr>\n",
       "    <tr>\n",
       "      <th>640972</th>\n",
       "      <td>ohfwccwkrpltrjx</td>\n",
       "      <td>malicious</td>\n",
       "    </tr>\n",
       "    <tr>\n",
       "      <th>311438</th>\n",
       "      <td>legibussquitheologie</td>\n",
       "      <td>malicious</td>\n",
       "    </tr>\n",
       "  </tbody>\n",
       "</table>\n",
       "<p>337500 rows × 2 columns</p>\n",
       "</div>"
      ],
      "text/plain": [
       "                                       domain      class\n",
       "332634  p62l48c59dygvowlskxosgvcsdtd20aym69nu  malicious\n",
       "570936                            selfengaged  malicious\n",
       "277405                       enbacankadmecfba  malicious\n",
       "510995                      vrtmfqdnwomekardo  malicious\n",
       "418982                         ocvmubkuktvczh  malicious\n",
       "...                                       ...        ...\n",
       "8880                                     zixw  malicious\n",
       "593049                     kyxp4j1evbk81jhaig  malicious\n",
       "296792                              eybqklbhb  malicious\n",
       "640972                        ohfwccwkrpltrjx  malicious\n",
       "311438                   legibussquitheologie  malicious\n",
       "\n",
       "[337500 rows x 2 columns]"
      ]
     },
     "execution_count": 57,
     "metadata": {},
     "output_type": "execute_result"
    }
   ],
   "source": [
    "dga_dataframe"
   ]
  },
  {
   "cell_type": "code",
   "execution_count": 58,
   "metadata": {},
   "outputs": [
    {
     "data": {
      "text/html": [
       "<div>\n",
       "<style scoped>\n",
       "    .dataframe tbody tr th:only-of-type {\n",
       "        vertical-align: middle;\n",
       "    }\n",
       "\n",
       "    .dataframe tbody tr th {\n",
       "        vertical-align: top;\n",
       "    }\n",
       "\n",
       "    .dataframe thead th {\n",
       "        text-align: right;\n",
       "    }\n",
       "</style>\n",
       "<table border=\"1\" class=\"dataframe\">\n",
       "  <thead>\n",
       "    <tr style=\"text-align: right;\">\n",
       "      <th></th>\n",
       "      <th>domain</th>\n",
       "      <th>class</th>\n",
       "    </tr>\n",
       "  </thead>\n",
       "  <tbody>\n",
       "    <tr>\n",
       "      <th>332634</th>\n",
       "      <td>p62l48c59dygvowlskxosgvcsdtd20aym69nu</td>\n",
       "      <td>malicious</td>\n",
       "    </tr>\n",
       "    <tr>\n",
       "      <th>570936</th>\n",
       "      <td>selfengaged</td>\n",
       "      <td>malicious</td>\n",
       "    </tr>\n",
       "    <tr>\n",
       "      <th>277405</th>\n",
       "      <td>enbacankadmecfba</td>\n",
       "      <td>malicious</td>\n",
       "    </tr>\n",
       "    <tr>\n",
       "      <th>510995</th>\n",
       "      <td>vrtmfqdnwomekardo</td>\n",
       "      <td>malicious</td>\n",
       "    </tr>\n",
       "    <tr>\n",
       "      <th>418982</th>\n",
       "      <td>ocvmubkuktvczh</td>\n",
       "      <td>malicious</td>\n",
       "    </tr>\n",
       "    <tr>\n",
       "      <th>...</th>\n",
       "      <td>...</td>\n",
       "      <td>...</td>\n",
       "    </tr>\n",
       "    <tr>\n",
       "      <th>8880</th>\n",
       "      <td>zixw</td>\n",
       "      <td>malicious</td>\n",
       "    </tr>\n",
       "    <tr>\n",
       "      <th>593049</th>\n",
       "      <td>kyxp4j1evbk81jhaig</td>\n",
       "      <td>malicious</td>\n",
       "    </tr>\n",
       "    <tr>\n",
       "      <th>296792</th>\n",
       "      <td>eybqklbhb</td>\n",
       "      <td>malicious</td>\n",
       "    </tr>\n",
       "    <tr>\n",
       "      <th>640972</th>\n",
       "      <td>ohfwccwkrpltrjx</td>\n",
       "      <td>malicious</td>\n",
       "    </tr>\n",
       "    <tr>\n",
       "      <th>311438</th>\n",
       "      <td>legibussquitheologie</td>\n",
       "      <td>malicious</td>\n",
       "    </tr>\n",
       "  </tbody>\n",
       "</table>\n",
       "<p>337181 rows × 2 columns</p>\n",
       "</div>"
      ],
      "text/plain": [
       "                                       domain      class\n",
       "332634  p62l48c59dygvowlskxosgvcsdtd20aym69nu  malicious\n",
       "570936                            selfengaged  malicious\n",
       "277405                       enbacankadmecfba  malicious\n",
       "510995                      vrtmfqdnwomekardo  malicious\n",
       "418982                         ocvmubkuktvczh  malicious\n",
       "...                                       ...        ...\n",
       "8880                                     zixw  malicious\n",
       "593049                     kyxp4j1evbk81jhaig  malicious\n",
       "296792                              eybqklbhb  malicious\n",
       "640972                        ohfwccwkrpltrjx  malicious\n",
       "311438                   legibussquitheologie  malicious\n",
       "\n",
       "[337181 rows x 2 columns]"
      ]
     },
     "execution_count": 58,
     "metadata": {},
     "output_type": "execute_result"
    }
   ],
   "source": [
    "dga_dataframe.drop_duplicates()\n",
    "dga_dataframe.dropna()"
   ]
  },
  {
   "cell_type": "code",
   "execution_count": 59,
   "metadata": {},
   "outputs": [],
   "source": [
    "alexa_dataframe['type'] = [str(type(x)) for x in alexa_dataframe['domain']]\n",
    "dga_dataframe['type'] = [str(type(x)) for x in dga_dataframe['domain']]\n",
    "\n",
    "alexa_dataframe = alexa_dataframe[alexa_dataframe.type == \"<class 'str'>\"]\n",
    "dga_dataframe = dga_dataframe[dga_dataframe.type == \"<class 'str'>\"]"
   ]
  },
  {
   "cell_type": "code",
   "execution_count": 83,
   "metadata": {},
   "outputs": [
    {
     "name": "stderr",
     "output_type": "stream",
     "text": [
      "C:\\Users\\Tharindu\\miniconda3\\envs\\ml\\lib\\site-packages\\ipykernel_launcher.py:1: SettingWithCopyWarning: \n",
      "A value is trying to be set on a copy of a slice from a DataFrame.\n",
      "Try using .loc[row_indexer,col_indexer] = value instead\n",
      "\n",
      "See the caveats in the documentation: https://pandas.pydata.org/pandas-docs/stable/user_guide/indexing.html#returning-a-view-versus-a-copy\n",
      "  \"\"\"Entry point for launching an IPython kernel.\n",
      "C:\\Users\\Tharindu\\miniconda3\\envs\\ml\\lib\\site-packages\\ipykernel_launcher.py:4: SettingWithCopyWarning: \n",
      "A value is trying to be set on a copy of a slice from a DataFrame.\n",
      "Try using .loc[row_indexer,col_indexer] = value instead\n",
      "\n",
      "See the caveats in the documentation: https://pandas.pydata.org/pandas-docs/stable/user_guide/indexing.html#returning-a-view-versus-a-copy\n",
      "  after removing the cwd from sys.path.\n"
     ]
    }
   ],
   "source": [
    "alexa_dataframe['length'] = [len(x) for x in alexa_dataframe['domain']]\n",
    "alexa_dataframe = alexa_dataframe[alexa_dataframe['length'] > 6]\n",
    "\n",
    "dga_dataframe['length'] = [len(x) for x in dga_dataframe['domain']]\n",
    "dga_dataframe = dga_dataframe[dga_dataframe['length'] > 6]"
   ]
  },
  {
   "cell_type": "code",
   "execution_count": 84,
   "metadata": {},
   "outputs": [],
   "source": [
    "del alexa_dataframe['length']\n",
    "del dga_dataframe['length']"
   ]
  },
  {
   "cell_type": "code",
   "execution_count": 68,
   "metadata": {},
   "outputs": [],
   "source": [
    "del alexa_dataframe['type']\n",
    "del dga_dataframe['type']"
   ]
  },
  {
   "cell_type": "code",
   "execution_count": 85,
   "metadata": {},
   "outputs": [
    {
     "data": {
      "text/plain": [
       "(294732, 2)"
      ]
     },
     "execution_count": 85,
     "metadata": {},
     "output_type": "execute_result"
    }
   ],
   "source": [
    "dga_dataframe.shape"
   ]
  },
  {
   "cell_type": "code",
   "execution_count": 86,
   "metadata": {},
   "outputs": [
    {
     "data": {
      "text/plain": [
       "(772457, 2)"
      ]
     },
     "execution_count": 86,
     "metadata": {},
     "output_type": "execute_result"
    }
   ],
   "source": [
    "alexa_dataframe.shape"
   ]
  },
  {
   "cell_type": "code",
   "execution_count": 87,
   "metadata": {},
   "outputs": [],
   "source": [
    "alexa_t1 = alexa_dataframe.iloc[0:210000]\n",
    "alexa_t2 = alexa_dataframe.iloc[0:140000]\n",
    "alexa_t3 = alexa_dataframe.iloc[0:280000]\n",
    "\n",
    "dga_t1 = dga_dataframe.iloc[0:210000]\n",
    "dga_t2 = dga_dataframe.iloc[0:280000]\n",
    "dga_t3 = dga_dataframe.iloc[0:140000]"
   ]
  },
  {
   "cell_type": "code",
   "execution_count": 88,
   "metadata": {},
   "outputs": [],
   "source": [
    "all_1 = pd.concat([alexa_t1, dga_t1], ignore_index=True)\n",
    "all_2 = pd.concat([alexa_t2, dga_t2], ignore_index=True)\n",
    "all_3 = pd.concat([alexa_t3, dga_t3], ignore_index=True)"
   ]
  },
  {
   "cell_type": "code",
   "execution_count": 89,
   "metadata": {},
   "outputs": [],
   "source": [
    "all_1 = all_1.reindex(np.random.permutation(all_1.index))\n",
    "all_2 = all_2.reindex(np.random.permutation(all_2.index))\n",
    "all_3 = all_3.reindex(np.random.permutation(all_3.index))"
   ]
  },
  {
   "cell_type": "code",
   "execution_count": 92,
   "metadata": {},
   "outputs": [
    {
     "data": {
      "text/html": [
       "<div>\n",
       "<style scoped>\n",
       "    .dataframe tbody tr th:only-of-type {\n",
       "        vertical-align: middle;\n",
       "    }\n",
       "\n",
       "    .dataframe tbody tr th {\n",
       "        vertical-align: top;\n",
       "    }\n",
       "\n",
       "    .dataframe thead th {\n",
       "        text-align: right;\n",
       "    }\n",
       "</style>\n",
       "<table border=\"1\" class=\"dataframe\">\n",
       "  <thead>\n",
       "    <tr style=\"text-align: right;\">\n",
       "      <th></th>\n",
       "      <th>domain</th>\n",
       "      <th>class</th>\n",
       "      <th>entropy</th>\n",
       "    </tr>\n",
       "  </thead>\n",
       "  <tbody>\n",
       "    <tr>\n",
       "      <th>55268</th>\n",
       "      <td>pairade</td>\n",
       "      <td>benign</td>\n",
       "      <td>2.521641</td>\n",
       "    </tr>\n",
       "    <tr>\n",
       "      <th>184507</th>\n",
       "      <td>ifeqmamkowymdiiw</td>\n",
       "      <td>malicious</td>\n",
       "      <td>3.280639</td>\n",
       "    </tr>\n",
       "    <tr>\n",
       "      <th>110008</th>\n",
       "      <td>finyear</td>\n",
       "      <td>benign</td>\n",
       "      <td>2.807355</td>\n",
       "    </tr>\n",
       "    <tr>\n",
       "      <th>186575</th>\n",
       "      <td>zechariahcamellia</td>\n",
       "      <td>malicious</td>\n",
       "      <td>3.028639</td>\n",
       "    </tr>\n",
       "    <tr>\n",
       "      <th>279914</th>\n",
       "      <td>ugatlehne</td>\n",
       "      <td>malicious</td>\n",
       "      <td>2.947703</td>\n",
       "    </tr>\n",
       "    <tr>\n",
       "      <th>...</th>\n",
       "      <td>...</td>\n",
       "      <td>...</td>\n",
       "      <td>...</td>\n",
       "    </tr>\n",
       "    <tr>\n",
       "      <th>22139</th>\n",
       "      <td>homestore</td>\n",
       "      <td>benign</td>\n",
       "      <td>2.725481</td>\n",
       "    </tr>\n",
       "    <tr>\n",
       "      <th>151221</th>\n",
       "      <td>saligufqbex</td>\n",
       "      <td>malicious</td>\n",
       "      <td>3.459432</td>\n",
       "    </tr>\n",
       "    <tr>\n",
       "      <th>343396</th>\n",
       "      <td>garolsumu</td>\n",
       "      <td>malicious</td>\n",
       "      <td>2.947703</td>\n",
       "    </tr>\n",
       "    <tr>\n",
       "      <th>399213</th>\n",
       "      <td>eareoxepvjhbijauv</td>\n",
       "      <td>malicious</td>\n",
       "      <td>3.454822</td>\n",
       "    </tr>\n",
       "    <tr>\n",
       "      <th>6942</th>\n",
       "      <td>vinamilk</td>\n",
       "      <td>benign</td>\n",
       "      <td>2.750000</td>\n",
       "    </tr>\n",
       "  </tbody>\n",
       "</table>\n",
       "<p>420000 rows × 3 columns</p>\n",
       "</div>"
      ],
      "text/plain": [
       "                   domain      class   entropy\n",
       "55268             pairade     benign  2.521641\n",
       "184507   ifeqmamkowymdiiw  malicious  3.280639\n",
       "110008            finyear     benign  2.807355\n",
       "186575  zechariahcamellia  malicious  3.028639\n",
       "279914          ugatlehne  malicious  2.947703\n",
       "...                   ...        ...       ...\n",
       "22139           homestore     benign  2.725481\n",
       "151221        saligufqbex  malicious  3.459432\n",
       "343396          garolsumu  malicious  2.947703\n",
       "399213  eareoxepvjhbijauv  malicious  3.454822\n",
       "6942             vinamilk     benign  2.750000\n",
       "\n",
       "[420000 rows x 3 columns]"
      ]
     },
     "execution_count": 92,
     "metadata": {},
     "output_type": "execute_result"
    }
   ],
   "source": [
    "import math\n",
    "from collections import Counter\n",
    " \n",
    "def entropy(s):\n",
    "    p, lns = Counter(s), float(len(s))\n",
    "    return -sum( count/lns * math.log(count/lns, 2) for count in p.values())\n",
    "  \n",
    "all_1['entropy'] = [entropy(x) for x in all_1['domain']]\n",
    "all_2['entropy'] = [entropy(x) for x in all_2['domain']]\n",
    "all_3['entropy'] = [entropy(x) for x in all_3['domain']]"
   ]
  },
  {
   "cell_type": "code",
   "execution_count": 95,
   "metadata": {},
   "outputs": [],
   "source": [
    "all_1['length'] = [len(x) for x in all_1['domain']]\n",
    "all_2['length'] = [len(x) for x in all_2['domain']]\n",
    "all_3['length'] = [len(x) for x in all_3['domain']]"
   ]
  },
  {
   "cell_type": "code",
   "execution_count": 96,
   "metadata": {},
   "outputs": [
    {
     "data": {
      "text/html": [
       "<div>\n",
       "<style scoped>\n",
       "    .dataframe tbody tr th:only-of-type {\n",
       "        vertical-align: middle;\n",
       "    }\n",
       "\n",
       "    .dataframe tbody tr th {\n",
       "        vertical-align: top;\n",
       "    }\n",
       "\n",
       "    .dataframe thead th {\n",
       "        text-align: right;\n",
       "    }\n",
       "</style>\n",
       "<table border=\"1\" class=\"dataframe\">\n",
       "  <thead>\n",
       "    <tr style=\"text-align: right;\">\n",
       "      <th></th>\n",
       "      <th>domain</th>\n",
       "      <th>class</th>\n",
       "      <th>entropy</th>\n",
       "      <th>length</th>\n",
       "    </tr>\n",
       "  </thead>\n",
       "  <tbody>\n",
       "    <tr>\n",
       "      <th>70130</th>\n",
       "      <td>juliosliquors</td>\n",
       "      <td>benign</td>\n",
       "      <td>2.931209</td>\n",
       "      <td>13</td>\n",
       "    </tr>\n",
       "    <tr>\n",
       "      <th>204785</th>\n",
       "      <td>access-im-unternehmen</td>\n",
       "      <td>benign</td>\n",
       "      <td>3.403989</td>\n",
       "      <td>21</td>\n",
       "    </tr>\n",
       "    <tr>\n",
       "      <th>408826</th>\n",
       "      <td>dynserv</td>\n",
       "      <td>malicious</td>\n",
       "      <td>2.807355</td>\n",
       "      <td>7</td>\n",
       "    </tr>\n",
       "    <tr>\n",
       "      <th>315384</th>\n",
       "      <td>puzadyv</td>\n",
       "      <td>malicious</td>\n",
       "      <td>2.807355</td>\n",
       "      <td>7</td>\n",
       "    </tr>\n",
       "    <tr>\n",
       "      <th>268858</th>\n",
       "      <td>trhacker</td>\n",
       "      <td>benign</td>\n",
       "      <td>2.750000</td>\n",
       "      <td>8</td>\n",
       "    </tr>\n",
       "    <tr>\n",
       "      <th>...</th>\n",
       "      <td>...</td>\n",
       "      <td>...</td>\n",
       "      <td>...</td>\n",
       "      <td>...</td>\n",
       "    </tr>\n",
       "    <tr>\n",
       "      <th>154576</th>\n",
       "      <td>empretel</td>\n",
       "      <td>benign</td>\n",
       "      <td>2.405639</td>\n",
       "      <td>8</td>\n",
       "    </tr>\n",
       "    <tr>\n",
       "      <th>407878</th>\n",
       "      <td>jenupej</td>\n",
       "      <td>malicious</td>\n",
       "      <td>2.235926</td>\n",
       "      <td>7</td>\n",
       "    </tr>\n",
       "    <tr>\n",
       "      <th>164492</th>\n",
       "      <td>casinodrive</td>\n",
       "      <td>benign</td>\n",
       "      <td>3.277613</td>\n",
       "      <td>11</td>\n",
       "    </tr>\n",
       "    <tr>\n",
       "      <th>368521</th>\n",
       "      <td>qlirjjlyshklyflfb</td>\n",
       "      <td>malicious</td>\n",
       "      <td>3.263933</td>\n",
       "      <td>17</td>\n",
       "    </tr>\n",
       "    <tr>\n",
       "      <th>414512</th>\n",
       "      <td>dynserv</td>\n",
       "      <td>malicious</td>\n",
       "      <td>2.807355</td>\n",
       "      <td>7</td>\n",
       "    </tr>\n",
       "  </tbody>\n",
       "</table>\n",
       "<p>420000 rows × 4 columns</p>\n",
       "</div>"
      ],
      "text/plain": [
       "                       domain      class   entropy  length\n",
       "70130           juliosliquors     benign  2.931209      13\n",
       "204785  access-im-unternehmen     benign  3.403989      21\n",
       "408826                dynserv  malicious  2.807355       7\n",
       "315384                puzadyv  malicious  2.807355       7\n",
       "268858               trhacker     benign  2.750000       8\n",
       "...                       ...        ...       ...     ...\n",
       "154576               empretel     benign  2.405639       8\n",
       "407878                jenupej  malicious  2.235926       7\n",
       "164492            casinodrive     benign  3.277613      11\n",
       "368521      qlirjjlyshklyflfb  malicious  3.263933      17\n",
       "414512                dynserv  malicious  2.807355       7\n",
       "\n",
       "[420000 rows x 4 columns]"
      ]
     },
     "execution_count": 96,
     "metadata": {},
     "output_type": "execute_result"
    }
   ],
   "source": [
    "all_3"
   ]
  },
  {
   "cell_type": "code",
   "execution_count": 98,
   "metadata": {},
   "outputs": [],
   "source": [
    "import sklearn.ensemble\n",
    "from sklearn import feature_extraction\n",
    "\n",
    "\n",
    "alexa_vc = sklearn.feature_extraction.text.CountVectorizer(analyzer='char', ngram_range=(3,5), min_df=1e-4, max_df=1.0)\n",
    "counts_matrix = alexa_vc.fit_transform(alexa_dataframe['domain'].apply(lambda x: np.str_(x)))\n",
    "alexa_counts = np.log10(counts_matrix.sum(axis=0).getA1())\n",
    "ngrams_list = alexa_vc.get_feature_names()"
   ]
  },
  {
   "cell_type": "code",
   "execution_count": 101,
   "metadata": {},
   "outputs": [],
   "source": [
    "word_dataframe = pd.read_csv('words.csv',header=0)\n",
    "word_dataframe = word_dataframe[word_dataframe['count'] > 50000]\n",
    "\n",
    "dict_vc = sklearn.feature_extraction.text.CountVectorizer(analyzer='char', ngram_range=(3,5), min_df=1e-5, max_df=1.0)\n",
    "counts_matrix = dict_vc.fit_transform(word_dataframe['word'].apply(lambda x: np.str_(x)))\n",
    "dict_counts = np.log10(counts_matrix.sum(axis=0).getA1())\n",
    "ngrams_list = dict_vc.get_feature_names()"
   ]
  },
  {
   "cell_type": "code",
   "execution_count": 102,
   "metadata": {},
   "outputs": [],
   "source": [
    "all_1['alexa_grams']= alexa_counts * alexa_vc.transform(all_1['domain']).T \n",
    "all_1['word_grams']= dict_counts * dict_vc.transform(all_1['domain']).T \n",
    "\n",
    "all_2['alexa_grams']= alexa_counts * alexa_vc.transform(all_2['domain']).T \n",
    "all_2['word_grams']= dict_counts * dict_vc.transform(all_2['domain']).T \n",
    "\n",
    "all_3['alexa_grams']= alexa_counts * alexa_vc.transform(all_3['domain']).T \n",
    "all_3['word_grams']= dict_counts * dict_vc.transform(all_3['domain']).T "
   ]
  },
  {
   "cell_type": "code",
   "execution_count": 106,
   "metadata": {},
   "outputs": [
    {
     "data": {
      "text/html": [
       "<div>\n",
       "<style scoped>\n",
       "    .dataframe tbody tr th:only-of-type {\n",
       "        vertical-align: middle;\n",
       "    }\n",
       "\n",
       "    .dataframe tbody tr th {\n",
       "        vertical-align: top;\n",
       "    }\n",
       "\n",
       "    .dataframe thead th {\n",
       "        text-align: right;\n",
       "    }\n",
       "</style>\n",
       "<table border=\"1\" class=\"dataframe\">\n",
       "  <thead>\n",
       "    <tr style=\"text-align: right;\">\n",
       "      <th></th>\n",
       "      <th>entropy</th>\n",
       "      <th>length</th>\n",
       "      <th>alexa_grams</th>\n",
       "      <th>word_grams</th>\n",
       "    </tr>\n",
       "    <tr>\n",
       "      <th>class</th>\n",
       "      <th></th>\n",
       "      <th></th>\n",
       "      <th></th>\n",
       "      <th></th>\n",
       "    </tr>\n",
       "  </thead>\n",
       "  <tbody>\n",
       "    <tr>\n",
       "      <th>benign</th>\n",
       "      <td>2.963952</td>\n",
       "      <td>11.337482</td>\n",
       "      <td>52.030786</td>\n",
       "      <td>33.881284</td>\n",
       "    </tr>\n",
       "    <tr>\n",
       "      <th>malicious</th>\n",
       "      <td>3.177919</td>\n",
       "      <td>14.362857</td>\n",
       "      <td>27.952160</td>\n",
       "      <td>20.635840</td>\n",
       "    </tr>\n",
       "  </tbody>\n",
       "</table>\n",
       "</div>"
      ],
      "text/plain": [
       "            entropy     length  alexa_grams  word_grams\n",
       "class                                                  \n",
       "benign     2.963952  11.337482    52.030786   33.881284\n",
       "malicious  3.177919  14.362857    27.952160   20.635840"
      ]
     },
     "execution_count": 106,
     "metadata": {},
     "output_type": "execute_result"
    }
   ],
   "source": [
    "all_3.groupby(['class']).mean()"
   ]
  },
  {
   "cell_type": "code",
   "execution_count": 111,
   "metadata": {},
   "outputs": [],
   "source": [
    "weird_cond1 = (all_1['class']=='benign') & (all_1['word_grams']<3) & (all_1['alexa_grams']<2)\n",
    "weird_cond2 = (all_2['class']=='benign') & (all_2['word_grams']<3) & (all_2['alexa_grams']<2)\n",
    "weird_cond3 = (all_3['class']=='benign') & (all_3['word_grams']<3) & (all_3['alexa_grams']<2)\n",
    "\n",
    "weird1 = all_1[weird_cond1]\n",
    "weird2 = all_2[weird_cond2]\n",
    "weird3 = all_3[weird_cond3]"
   ]
  },
  {
   "cell_type": "code",
   "execution_count": 112,
   "metadata": {},
   "outputs": [
    {
     "name": "stdout",
     "output_type": "stream",
     "text": [
      "300\n",
      "190\n",
      "385\n"
     ]
    }
   ],
   "source": [
    "print(weird1.shape[0])\n",
    "print(weird2.shape[0])\n",
    "print(weird3.shape[0])"
   ]
  },
  {
   "cell_type": "code",
   "execution_count": 114,
   "metadata": {},
   "outputs": [],
   "source": [
    "all_1.loc[weird_cond1, 'class'] = 'weird'\n",
    "all_2.loc[weird_cond2, 'class'] = 'weird'\n",
    "all_3.loc[weird_cond3, 'class'] = 'weird'"
   ]
  },
  {
   "cell_type": "code",
   "execution_count": 115,
   "metadata": {},
   "outputs": [],
   "source": [
    "not_weird1 = all_1[all_1['class'] != 'weird']\n",
    "not_weird2 = all_2[all_2['class'] != 'weird']\n",
    "not_weird3 = all_3[all_3['class'] != 'weird']"
   ]
  },
  {
   "cell_type": "code",
   "execution_count": 117,
   "metadata": {},
   "outputs": [],
   "source": [
    "x1 = not_weird1[['length', 'entropy', 'alexa_grams', 'word_grams']].values\n",
    "x2 = not_weird2[['length', 'entropy', 'alexa_grams', 'word_grams']].values\n",
    "x3 = not_weird3[['length', 'entropy', 'alexa_grams', 'word_grams']].values\n",
    "\n",
    "y1 = np.array(not_weird1['class'].tolist())\n",
    "y2 = np.array(not_weird2['class'].tolist())\n",
    "y3 = np.array(not_weird3['class'].tolist())"
   ]
  },
  {
   "cell_type": "code",
   "execution_count": 125,
   "metadata": {},
   "outputs": [],
   "source": [
    "from sklearn.naive_bayes import GaussianNB\n",
    "\n",
    "clf_rf = sklearn.ensemble.RandomForestClassifier(n_estimators=30)\n",
    "clf_knn = sklearn.neighbors.KNeighborsClassifier(n_neighbors=13)\n",
    "clf_c45 = sklearn.tree.DecisionTreeClassifier()\n",
    "clf_nb = GaussianNB()"
   ]
  },
  {
   "cell_type": "code",
   "execution_count": 121,
   "metadata": {},
   "outputs": [],
   "source": [
    "from sklearn.model_selection import train_test_split\n",
    "\n",
    "X1_train, X1_test, y1_train, y1_test = train_test_split(x1, y1, test_size=0.2)\n",
    "X2_train, X2_test, y2_train, y2_test = train_test_split(x2, y2, test_size=0.2)\n",
    "X3_train, X3_test, y3_train, y3_test = train_test_split(x3, y3, test_size=0.2)"
   ]
  },
  {
   "cell_type": "code",
   "execution_count": 126,
   "metadata": {},
   "outputs": [],
   "source": [
    "clf_rf.fit(X1_train, y1_train)\n",
    "y1_pred_rf = clf_rf.predict(X1_test)\n",
    "\n",
    "clf_knn.fit(X1_train, y1_train)\n",
    "y1_pred_knn = clf_knn.predict(X1_test)\n",
    "\n",
    "clf_c45.fit(X1_train, y1_train)\n",
    "y1_pred_c45 = clf_c45.predict(X1_test)\n",
    "\n",
    "clf_nb.fit(X1_train, y1_train)\n",
    "y1_pred_nb = clf_nb.predict(X1_test)"
   ]
  },
  {
   "cell_type": "code",
   "execution_count": 130,
   "metadata": {},
   "outputs": [
    {
     "name": "stdout",
     "output_type": "stream",
     "text": [
      "T1 RF ACC: 0.8868477483917083\n",
      "T1 kNN ACC: 0.8931736954967834\n",
      "T1 C4.5 ACC: 0.8455444365022635\n",
      "T1 NB ACC: 0.8260185847033595\n",
      "\n",
      "\n",
      "T1 RF PPV: 0.8625921882311001\n",
      "T1 kNN PPV: 0.8689764411922185\n",
      "T1 C4.5 PPV: 0.8472985238618449\n",
      "T1 NB PPV: 0.7866499529927923\n",
      "\n",
      "\n",
      "T1 RF F1: 0.8907346478613994\n",
      "T1 kNN F1: 0.8967756046460763\n",
      "T1 C4.5 F1: 0.8454910559998092\n",
      "T1 NB F1: 0.8375709042375709\n"
     ]
    }
   ],
   "source": [
    "from sklearn.metrics import accuracy_score, precision_score, f1_score\n",
    "\n",
    "print(\"T1 RF ACC: {}\".format(accuracy_score(y1_test, y1_pred_rf)))\n",
    "print(\"T1 kNN ACC: {}\".format(accuracy_score(y1_test, y1_pred_knn)))\n",
    "print(\"T1 C4.5 ACC: {}\".format(accuracy_score(y1_test, y1_pred_c45)))\n",
    "print(\"T1 NB ACC: {}\".format(accuracy_score(y1_test, y1_pred_nb)))\n",
    "print(\"\\n\")\n",
    "print(\"T1 RF PPV: {}\".format(precision_score(y1_test, y1_pred_rf, average=\"binary\", pos_label=\"benign\")))\n",
    "print(\"T1 kNN PPV: {}\".format(precision_score(y1_test, y1_pred_knn, average=\"binary\", pos_label=\"benign\")))\n",
    "print(\"T1 C4.5 PPV: {}\".format(precision_score(y1_test, y1_pred_c45, average=\"binary\", pos_label=\"benign\")))\n",
    "print(\"T1 NB PPV: {}\".format(precision_score(y1_test, y1_pred_nb, average=\"binary\", pos_label=\"benign\")))\n",
    "print(\"\\n\")\n",
    "print(\"T1 RF F1: {}\".format(f1_score(y1_test, y1_pred_rf, average=\"binary\", pos_label=\"benign\")))\n",
    "print(\"T1 kNN F1: {}\".format(f1_score(y1_test, y1_pred_knn, average=\"binary\", pos_label=\"benign\")))\n",
    "print(\"T1 C4.5 F1: {}\".format(f1_score(y1_test, y1_pred_c45, average=\"binary\", pos_label=\"benign\")))\n",
    "print(\"T1 NB F1: {}\".format(f1_score(y1_test, y1_pred_nb, average=\"binary\", pos_label=\"benign\")))"
   ]
  },
  {
   "cell_type": "code",
   "execution_count": 131,
   "metadata": {},
   "outputs": [],
   "source": [
    "clf_rf.fit(X2_train, y2_train)\n",
    "y2_pred_rf = clf_rf.predict(X2_test)\n",
    "\n",
    "clf_knn.fit(X2_train, y2_train)\n",
    "y2_pred_knn = clf_knn.predict(X2_test)\n",
    "\n",
    "clf_c45.fit(X2_train, y2_train)\n",
    "y2_pred_c45 = clf_c45.predict(X2_test)\n",
    "\n",
    "clf_nb.fit(X2_train, y2_train)\n",
    "y2_pred_nb = clf_nb.predict(X2_test)"
   ]
  },
  {
   "cell_type": "code",
   "execution_count": 132,
   "metadata": {},
   "outputs": [
    {
     "name": "stdout",
     "output_type": "stream",
     "text": [
      "T2 RF ACC: 0.8798742288177985\n",
      "T2 kNN ACC: 0.8838760391605727\n",
      "T2 C4.5 ACC: 0.842666920749863\n",
      "T2 NB ACC: 0.8372478025773564\n",
      "\n",
      "\n",
      "T2 RF PPV: 0.7952316030991254\n",
      "T2 kNN PPV: 0.8015801580158016\n",
      "T2 C4.5 PPV: 0.7643339716030203\n",
      "T2 NB PPV: 0.7866499529927923\n",
      "\n",
      "\n",
      "T2 RF F1: 0.8258512328199462\n",
      "T2 kNN F1: 0.8314315352697097\n",
      "T2 C4.5 F1: 0.7620762940816252\n",
      "T2 NB F1: 0.7453837410795805\n"
     ]
    }
   ],
   "source": [
    "print(\"T2 RF ACC: {}\".format(accuracy_score(y2_test, y2_pred_rf)))\n",
    "print(\"T2 kNN ACC: {}\".format(accuracy_score(y2_test, y2_pred_knn)))\n",
    "print(\"T2 C4.5 ACC: {}\".format(accuracy_score(y2_test, y2_pred_c45)))\n",
    "print(\"T2 NB ACC: {}\".format(accuracy_score(y2_test, y2_pred_nb)))\n",
    "print(\"\\n\")\n",
    "print(\"T2 RF PPV: {}\".format(precision_score(y2_test, y2_pred_rf, average=\"binary\", pos_label=\"benign\")))\n",
    "print(\"T2 kNN PPV: {}\".format(precision_score(y2_test, y2_pred_knn, average=\"binary\", pos_label=\"benign\")))\n",
    "print(\"T2 C4.5 PPV: {}\".format(precision_score(y2_test, y2_pred_c45, average=\"binary\", pos_label=\"benign\")))\n",
    "print(\"T2 NB PPV: {}\".format(precision_score(y1_test, y1_pred_nb, average=\"binary\", pos_label=\"benign\")))\n",
    "print(\"\\n\")\n",
    "print(\"T2 RF F1: {}\".format(f1_score(y2_test, y2_pred_rf, average=\"binary\", pos_label=\"benign\")))\n",
    "print(\"T2 kNN F1: {}\".format(f1_score(y2_test, y2_pred_knn, average=\"binary\", pos_label=\"benign\")))\n",
    "print(\"T2 C4.5 F1: {}\".format(f1_score(y2_test, y2_pred_c45, average=\"binary\", pos_label=\"benign\")))\n",
    "print(\"T2 NB F1: {}\".format(f1_score(y2_test, y2_pred_nb, average=\"binary\", pos_label=\"benign\")))"
   ]
  },
  {
   "cell_type": "code",
   "execution_count": 133,
   "metadata": {},
   "outputs": [],
   "source": [
    "clf_rf.fit(X3_train, y3_train)\n",
    "y3_pred_rf = clf_rf.predict(X3_test)\n",
    "\n",
    "clf_knn.fit(X3_train, y3_train)\n",
    "y3_pred_knn = clf_knn.predict(X3_test)\n",
    "\n",
    "clf_c45.fit(X3_train, y3_train)\n",
    "y3_pred_c45 = clf_c45.predict(X3_test)\n",
    "\n",
    "clf_nb.fit(X3_train, y3_train)\n",
    "y3_pred_nb = clf_nb.predict(X3_test)"
   ]
  },
  {
   "cell_type": "code",
   "execution_count": 134,
   "metadata": {},
   "outputs": [
    {
     "name": "stdout",
     "output_type": "stream",
     "text": [
      "T3 RF ACC: 0.9116213672056528\n",
      "T3 kNN ACC: 0.9143262276134075\n",
      "T3 C4.5 ACC: 0.8706075807585525\n",
      "T3 NB ACC: 0.8054407015955102\n",
      "\n",
      "\n",
      "T3 RF PPV: 0.9125400387112246\n",
      "T3 kNN PPV: 0.9144770648487548\n",
      "T3 C4.5 PPV: 0.904410568003038\n",
      "T3 NB PPV: 0.7977790588306684\n",
      "\n",
      "\n",
      "T3 RF F1: 0.9349197574736546\n",
      "T3 kNN F1: 0.9369121156815948\n",
      "T3 C4.5 F1: 0.9020697118636425\n",
      "T3 NB F1: 0.8656175928364497\n"
     ]
    }
   ],
   "source": [
    "print(\"T3 RF ACC: {}\".format(accuracy_score(y3_test, y3_pred_rf)))\n",
    "print(\"T3 kNN ACC: {}\".format(accuracy_score(y3_test, y3_pred_knn)))\n",
    "print(\"T3 C4.5 ACC: {}\".format(accuracy_score(y3_test, y3_pred_c45)))\n",
    "print(\"T3 NB ACC: {}\".format(accuracy_score(y3_test, y3_pred_nb)))\n",
    "print(\"\\n\")\n",
    "print(\"T3 RF PPV: {}\".format(precision_score(y3_test, y3_pred_rf, average=\"binary\", pos_label=\"benign\")))\n",
    "print(\"T3 kNN PPV: {}\".format(precision_score(y3_test, y3_pred_knn, average=\"binary\", pos_label=\"benign\")))\n",
    "print(\"T3 C4.5 PPV: {}\".format(precision_score(y3_test, y3_pred_c45, average=\"binary\", pos_label=\"benign\")))\n",
    "print(\"T3 NB PPV: {}\".format(precision_score(y3_test, y3_pred_nb, average=\"binary\", pos_label=\"benign\")))\n",
    "print(\"\\n\")\n",
    "print(\"T3 RF F1: {}\".format(f1_score(y3_test, y3_pred_rf, average=\"binary\", pos_label=\"benign\")))\n",
    "print(\"T3 kNN F1: {}\".format(f1_score(y3_test, y3_pred_knn, average=\"binary\", pos_label=\"benign\")))\n",
    "print(\"T3 C4.5 F1: {}\".format(f1_score(y3_test, y3_pred_c45, average=\"binary\", pos_label=\"benign\")))\n",
    "print(\"T3 NB F1: {}\".format(f1_score(y3_test, y3_pred_nb, average=\"binary\", pos_label=\"benign\")))"
   ]
  },
  {
   "cell_type": "code",
   "execution_count": null,
   "metadata": {},
   "outputs": [],
   "source": []
  }
 ],
 "metadata": {
  "kernelspec": {
   "display_name": "Python 3",
   "language": "python",
   "name": "python3"
  },
  "language_info": {
   "codemirror_mode": {
    "name": "ipython",
    "version": 3
   },
   "file_extension": ".py",
   "mimetype": "text/x-python",
   "name": "python",
   "nbconvert_exporter": "python",
   "pygments_lexer": "ipython3",
   "version": "3.7.7"
  }
 },
 "nbformat": 4,
 "nbformat_minor": 4
}
